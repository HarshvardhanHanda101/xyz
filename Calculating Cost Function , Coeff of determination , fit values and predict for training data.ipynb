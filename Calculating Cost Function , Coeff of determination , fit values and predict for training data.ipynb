{
 "cells": [
  {
   "cell_type": "code",
   "execution_count": 1,
   "id": "192557f5",
   "metadata": {},
   "outputs": [
    {
     "data": {
      "text/plain": [
       "(100, 1)"
      ]
     },
     "execution_count": 1,
     "metadata": {},
     "output_type": "execute_result"
    }
   ],
   "source": [
    "import numpy as np\n",
    "data = np.loadtxt(\"data.csv\" , delimiter = \",\")\n",
    "x = data[:, 0].reshape(-1,1)\n",
    "y = data[: , 1]\n",
    "x.shape\n"
   ]
  },
  {
   "cell_type": "code",
   "execution_count": 2,
   "id": "86bb8393",
   "metadata": {},
   "outputs": [],
   "source": [
    "from sklearn import model_selection\n",
    "x_train , x_test , y_train , y_test = model_selection.train_test_split(x,y)"
   ]
  },
  {
   "cell_type": "code",
   "execution_count": 4,
   "id": "226c8be0",
   "metadata": {},
   "outputs": [],
   "source": [
    "def fit(x_train , y_train):\n",
    "    num = (x_train*y_train).mean() - x_train.mean()*y_train.mean()\n",
    "    den = (x_train**2).mean() - x_train.mean()**2\n",
    "    m = num/den\n",
    "    c = y_train.mean() - m*x_train.mean()\n",
    "    return m,c\n",
    "    "
   ]
  },
  {
   "cell_type": "code",
   "execution_count": 8,
   "id": "58898cfe",
   "metadata": {},
   "outputs": [],
   "source": [
    "def predict(x , m , c):\n",
    "    return m*x + c"
   ]
  },
  {
   "cell_type": "code",
   "execution_count": 7,
   "id": "4fa08207",
   "metadata": {},
   "outputs": [],
   "source": [
    "def score(y_truth , y_predict):\n",
    "    u = ((y_truth - y_predict)**2).sum()\n",
    "    x = y_truth.mean()\n",
    "    v = ((y_truth - x)**2).sum()\n",
    "    return 1 - (u/v)"
   ]
  },
  {
   "cell_type": "code",
   "execution_count": 14,
   "id": "39f8741f",
   "metadata": {},
   "outputs": [],
   "source": [
    "def cost(x , y , m , c):\n",
    "    return ((y - m*x - c)**2).mean()"
   ]
  },
  {
   "cell_type": "code",
   "execution_count": 16,
   "id": "9e43bdb2",
   "metadata": {},
   "outputs": [
    {
     "name": "stdout",
     "output_type": "stream",
     "text": [
      "test score:  -24.000311239002844\n",
      "train score:  -74.0\n",
      "m , c :  0.0 759327.8266666667\n",
      "Cost on training data 724256016246.1967\n",
      "Score function is also known as Coefficient of determination\n"
     ]
    }
   ],
   "source": [
    "m,c = fit(x_train , y_train)\n",
    "#test data\n",
    "y_test_pred = predict(x_test , m,c)\n",
    "print(\"test score: \" ,score(y_test , y_test_pred))\n",
    "\n",
    "#train data\n",
    "y_train_pred = predict(x_train , m , c)\n",
    "print(\"train score: \" ,score(y_train , y_train_pred))\n",
    "print(\"m , c : \" , m,c)\n",
    "print(\"Cost on training data\", cost(x_train , y_train , m , c))\n",
    "print(\"Score function is also known as Coefficient of determination\")"
   ]
  },
  {
   "cell_type": "code",
   "execution_count": null,
   "id": "d8476906",
   "metadata": {},
   "outputs": [],
   "source": []
  }
 ],
 "metadata": {
  "kernelspec": {
   "display_name": "Python 3 (ipykernel)",
   "language": "python",
   "name": "python3"
  },
  "language_info": {
   "codemirror_mode": {
    "name": "ipython",
    "version": 3
   },
   "file_extension": ".py",
   "mimetype": "text/x-python",
   "name": "python",
   "nbconvert_exporter": "python",
   "pygments_lexer": "ipython3",
   "version": "3.11.5"
  }
 },
 "nbformat": 4,
 "nbformat_minor": 5
}
